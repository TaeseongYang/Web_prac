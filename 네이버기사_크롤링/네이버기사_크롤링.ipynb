{
 "cells": [
  {
   "cell_type": "code",
   "execution_count": 2,
   "id": "389fa100",
   "metadata": {},
   "outputs": [
    {
     "name": "stdout",
     "output_type": "stream",
     "text": [
      "Requirement already satisfied: requests in c:\\users\\bigca\\anaconda3\\lib\\site-packages (2.25.1)\n",
      "Requirement already satisfied: urllib3<1.27,>=1.21.1 in c:\\users\\bigca\\anaconda3\\lib\\site-packages (from requests) (1.26.4)\n",
      "Requirement already satisfied: certifi>=2017.4.17 in c:\\users\\bigca\\anaconda3\\lib\\site-packages (from requests) (2023.7.22)\n",
      "Requirement already satisfied: idna<3,>=2.5 in c:\\users\\bigca\\anaconda3\\lib\\site-packages (from requests) (2.10)\n",
      "Requirement already satisfied: chardet<5,>=3.0.2 in c:\\users\\bigca\\anaconda3\\lib\\site-packages (from requests) (4.0.0)\n",
      "Requirement already satisfied: beautifulsoup4 in c:\\users\\bigca\\anaconda3\\lib\\site-packages (4.9.3)\n",
      "Requirement already satisfied: soupsieve>1.2 in c:\\users\\bigca\\anaconda3\\lib\\site-packages (from beautifulsoup4) (2.2.1)\n"
     ]
    }
   ],
   "source": [
    "!pip install requests\n",
    "!pip install beautifulsoup4"
   ]
  },
  {
   "cell_type": "code",
   "execution_count": 3,
   "id": "df55eca7",
   "metadata": {},
   "outputs": [],
   "source": [
    "from bs4 import BeautifulSoup\n",
    "import requests\n",
    "import openpyxl\n",
    "from openpyxl import Workbook\n",
    "import pandas as pd\n",
    "from openpyxl.utils.dataframe import dataframe_to_rows\n",
    "from tqdm.auto import tqdm"
   ]
  },
  {
   "cell_type": "code",
   "execution_count": 18,
   "id": "efda7cf3",
   "metadata": {},
   "outputs": [
    {
     "data": {
      "application/vnd.jupyter.widget-view+json": {
       "model_id": "ebac963efcc64b28b496d6304f1ca13e",
       "version_major": 2,
       "version_minor": 0
      },
      "text/plain": [
       "  0%|          | 0/25 [00:00<?, ?it/s]"
      ]
     },
     "metadata": {},
     "output_type": "display_data"
    }
   ],
   "source": [
    "wb = Workbook()\n",
    "sheet = wb.active\n",
    "sheet.append(['발행일','언론사','기사제목','URL','내용'])\n",
    "\n",
    "\n",
    "headers = { \"User-Agent\": \"Mozilla/5.0 (Windows NT 10.0; Win64; x64) Chrome/98.0.4758.102\" }\n",
    "\n",
    "#1, 11, 21.... => 1페이지는 1, 2페이지는 11, 3페이지는 21과 같이 10의 단위로 커짐\n",
    "for page in tqdm(range(1501,1742,10)):\n",
    "    # 1742\n",
    "    # 501\n",
    "    # 901\n",
    "    # 1301\n",
    "    # 1501\n",
    "\n",
    "    #Get 요청, naver 서버에 대화 시도\n",
    "    response = requests.get(f'https://search.naver.com/search.naver?where=news&sm=tab_pge&query=%EA%B5%90%EC%B4%8C%EC%B9%98%ED%82%A8&sort=1&photo=3&field=0&pd=3&ds=2015.01.01&de=2024.01.12&mynews=0&office_type=0&office_section_code=0&news_office_checked=&office_category=0&service_area=0&nso=so:dd,p:from20150101to20240112,a:all&start={page}')\n",
    "    #네이버에서 html 제공, text 메소드로 태그 내 텍스트만 추출\n",
    "    html = response.text\n",
    "\n",
    "    #html 번역선생님으로 수프 만듦\n",
    "    soup = BeautifulSoup(html, 'html.parser')\n",
    "    news = soup.select('div.news_wrap.api_ani_send')\n",
    "    for n in news:\n",
    "        title = n.select_one('a.news_tit').text\n",
    "        press = n.select_one('a.info.press').text\n",
    "        #date = n.select_one('span.info').text\n",
    "\n",
    "        try:\n",
    "            url = n.select_one('div.info_group > a:nth-of-type(2)')['href']\n",
    "        except:\n",
    "            continue\n",
    "        article = requests.get(url,headers = headers)\n",
    "        article_html = BeautifulSoup(article.text,\"html.parser\")\n",
    "\n",
    "        try:\n",
    "            date = article_html.select_one('span.media_end_head_info_datestamp_time._ARTICLE_DATE_TIME').text\n",
    "        except:\n",
    "            continue\n",
    "        try:\n",
    "            content = article_html.select_one('#dic_area').text\n",
    "        except:\n",
    "            continue\n",
    "        sheet.append([date, press, title,url, content])\n",
    "\n",
    "\n",
    "\n",
    "\n",
    "\n",
    "#간격조절\n",
    "sheet.column_dimensions['A'].width = 10\n",
    "sheet.column_dimensions['B'].width = 10\n",
    "sheet.column_dimensions['C'].width = 30\n",
    "sheet.column_dimensions['D'].width = 40\n",
    "sheet.column_dimensions['E'].width = 50\n",
    "wb.save(filename='3월_22.xlsx')"
   ]
  }
 ],
 "metadata": {
  "kernelspec": {
   "display_name": "Python 3",
   "language": "python",
   "name": "python3"
  },
  "language_info": {
   "codemirror_mode": {
    "name": "ipython",
    "version": 3
   },
   "file_extension": ".py",
   "mimetype": "text/x-python",
   "name": "python",
   "nbconvert_exporter": "python",
   "pygments_lexer": "ipython3",
   "version": "3.8.8"
  }
 },
 "nbformat": 4,
 "nbformat_minor": 5
}
